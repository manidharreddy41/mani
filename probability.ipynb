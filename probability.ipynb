{
 "cells": [
  {
   "cell_type": "code",
   "execution_count": 29,
   "metadata": {},
   "outputs": [],
   "source": [
    "import numpy as np\n",
    "import pandas as pd\n",
    "import random\n",
    "import matplotlib.pyplot as plt \n"
   ]
  },
  {
   "cell_type": "code",
   "execution_count": 30,
   "metadata": {},
   "outputs": [
    {
     "data": {
      "text/plain": [
       "array([43, 51, 49, ..., 48, 48, 51])"
      ]
     },
     "execution_count": 30,
     "metadata": {},
     "output_type": "execute_result"
    }
   ],
   "source": [
    "np.random.seed(50)\n",
    "num_toss = 100\n",
    "probability = 0.5\n",
    "repititions = 10000\n",
    "array =np.random.binomial(n=num_toss, p=probability, size=repititions)\n",
    "array"
   ]
  },
  {
   "cell_type": "code",
   "execution_count": 31,
   "metadata": {},
   "outputs": [
    {
     "data": {
      "text/plain": [
       "[0,\n",
       " 0,\n",
       " 0,\n",
       " 0,\n",
       " 0,\n",
       " 0,\n",
       " 0,\n",
       " 0,\n",
       " 0,\n",
       " 0,\n",
       " 0,\n",
       " 0,\n",
       " 0,\n",
       " 0,\n",
       " 0,\n",
       " 0,\n",
       " 0,\n",
       " 0,\n",
       " 0,\n",
       " 0,\n",
       " 0,\n",
       " 0,\n",
       " 0,\n",
       " 0,\n",
       " 0,\n",
       " 0,\n",
       " 0,\n",
       " 0,\n",
       " 0,\n",
       " 1,\n",
       " 0,\n",
       " 1,\n",
       " 1,\n",
       " 2,\n",
       " 5,\n",
       " 9,\n",
       " 19,\n",
       " 31,\n",
       " 31,\n",
       " 79,\n",
       " 112,\n",
       " 156,\n",
       " 238,\n",
       " 303,\n",
       " 368,\n",
       " 513,\n",
       " 568,\n",
       " 692,\n",
       " 790,\n",
       " 737,\n",
       " 763,\n",
       " 772,\n",
       " 714,\n",
       " 639,\n",
       " 624,\n",
       " 463,\n",
       " 379,\n",
       " 291,\n",
       " 247,\n",
       " 155,\n",
       " 104,\n",
       " 79,\n",
       " 46,\n",
       " 29,\n",
       " 16,\n",
       " 9,\n",
       " 5,\n",
       " 5,\n",
       " 3,\n",
       " 1,\n",
       " 0,\n",
       " 0,\n",
       " 0,\n",
       " 0,\n",
       " 0,\n",
       " 0,\n",
       " 0,\n",
       " 0,\n",
       " 0,\n",
       " 0,\n",
       " 0,\n",
       " 0,\n",
       " 0,\n",
       " 0,\n",
       " 0,\n",
       " 0,\n",
       " 0,\n",
       " 0,\n",
       " 0,\n",
       " 0,\n",
       " 0,\n",
       " 0,\n",
       " 0,\n",
       " 0,\n",
       " 0,\n",
       " 0,\n",
       " 0,\n",
       " 0,\n",
       " 0,\n",
       " 0]"
      ]
     },
     "execution_count": 31,
     "metadata": {},
     "output_type": "execute_result"
    }
   ],
   "source": [
    "[np.equal(array,i).sum() for i in range(n)]"
   ]
  },
  {
   "cell_type": "code",
   "execution_count": 32,
   "metadata": {},
   "outputs": [
    {
     "name": "stdout",
     "output_type": "stream",
     "text": [
      "[0.0, 0.0001, 0.0001, 0.0002, 0.0005, 0.0009, 0.0019, 0.0031, 0.0031, 0.0079, 0.0112, 0.0156, 0.0238, 0.0303, 0.0368, 0.0513, 0.0568, 0.0692, 0.079, 0.0737, 0.0763, 0.0772, 0.0714, 0.0639, 0.0624, 0.0463, 0.0379, 0.0291, 0.0247, 0.0155, 0.0104, 0.0079, 0.0046, 0.0029, 0.0016, 0.0009, 0.0005, 0.0005, 0.0003, 0.0001]\n"
     ]
    }
   ],
   "source": [
    "simulation = [np.equal(array,i).mean() for i in range(30,70,1)]\n",
    "print(simulation)"
   ]
  },
  {
   "cell_type": "code",
   "execution_count": 33,
   "metadata": {},
   "outputs": [
    {
     "data": {
      "text/plain": [
       "Text(0, 0.5, 'Probability')"
      ]
     },
     "execution_count": 33,
     "metadata": {},
     "output_type": "execute_result"
    },
    {
     "data": {
      "image/png": "[encoded data removed]",
      "text/plain": [
       "<Figure size 432x288 with 1 Axes>"
      ]
     },
     "metadata": {
      "needs_background": "light"
     },
     "output_type": "display_data"
    }
   ],
   "source": [
    "plt.xticks(range(30,70,1))\n",
    "plt.plot(list(range(30,70,1)), simulation, color='red', marker='o')\n",
    "plt.xlabel('Number of Heads',fontsize=16)\n",
    "plt.ylabel('Probability',fontsize=16)"
   ]
  },
  {
   "cell_type": "code",
   "execution_count": null,
   "metadata": {},
   "outputs": [],
   "source": []
  }
 ],
 "metadata": {
  "kernelspec": {
   "display_name": "Python 3",
   "language": "python",
   "name": "python3"
  },
  "language_info": {
   "codemirror_mode": {
    "name": "ipython",
    "version": 3
   },
   "file_extension": ".py",
   "mimetype": "text/x-python",
   "name": "python",
   "nbconvert_exporter": "python",
   "pygments_lexer": "ipython3",
   "version": "3.7.6"
  }
 },
 "nbformat": 4,
 "nbformat_minor": 4
}
