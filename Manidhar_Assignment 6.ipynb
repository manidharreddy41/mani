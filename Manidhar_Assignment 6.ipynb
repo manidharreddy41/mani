{
 "cells": [
  {
   "cell_type": "code",
   "execution_count": 9,
   "metadata": {},
   "outputs": [],
   "source": [
    "# 1.The Bootstrap and The Normal Curve"
   ]
  },
  {
   "cell_type": "code",
   "execution_count": 33,
   "metadata": {},
   "outputs": [],
   "source": [
    "import datascience as ds\n",
    "from datascience import Table\n",
    "import numpy as np\n"
   ]
  },
  {
   "cell_type": "code",
   "execution_count": 34,
   "metadata": {},
   "outputs": [
    {
     "data": {
      "text/html": [
       "<table border=\"1\" class=\"dataframe\">\n",
       "    <thead>\n",
       "        <tr>\n",
       "            <th>Restaurant Name</th> <th>Zip Code</th> <th>Inspection Date</th> <th>Score</th> <th>Facility ID</th>\n",
       "        </tr>\n",
       "    </thead>\n",
       "    <tbody>\n",
       "        <tr>\n",
       "            <td>6M Grocery     </td> <td>78652   </td> <td>01/17/2014     </td> <td>90   </td> <td>2803436    </td>\n",
       "        </tr>\n",
       "        <tr>\n",
       "            <td>6M Grocery     </td> <td>78652   </td> <td>04/27/2015     </td> <td>93   </td> <td>2803436    </td>\n",
       "        </tr>\n",
       "        <tr>\n",
       "            <td>6M Grocery     </td> <td>78652   </td> <td>05/02/2016     </td> <td>88   </td> <td>2803436    </td>\n",
       "        </tr>\n",
       "        <tr>\n",
       "            <td>6M Grocery     </td> <td>78652   </td> <td>07/25/2014     </td> <td>100  </td> <td>2803436    </td>\n",
       "        </tr>\n",
       "        <tr>\n",
       "            <td>6M Grocery     </td> <td>78652   </td> <td>10/21/2015     </td> <td>87   </td> <td>2803436    </td>\n",
       "        </tr>\n",
       "        <tr>\n",
       "            <td>6M Grocery     </td> <td>78652   </td> <td>12/15/2014     </td> <td>93   </td> <td>2803436    </td>\n",
       "        </tr>\n",
       "        <tr>\n",
       "            <td>7 Eleven #36575</td> <td>78660   </td> <td>01/25/2016     </td> <td>92   </td> <td>10874330   </td>\n",
       "        </tr>\n",
       "        <tr>\n",
       "            <td>7 Eleven #36575</td> <td>78660   </td> <td>03/05/2015     </td> <td>86   </td> <td>10874330   </td>\n",
       "        </tr>\n",
       "        <tr>\n",
       "            <td>7 Eleven #36575</td> <td>78660   </td> <td>03/14/2014     </td> <td>93   </td> <td>10874330   </td>\n",
       "        </tr>\n",
       "        <tr>\n",
       "            <td>7 Eleven #36575</td> <td>78660   </td> <td>07/27/2015     </td> <td>97   </td> <td>10874330   </td>\n",
       "        </tr>\n",
       "    </tbody>\n",
       "</table>\n",
       "<p>... (24357 rows omitted)</p>"
      ],
      "text/plain": [
       "Restaurant Name | Zip Code | Inspection Date | Score | Facility ID\n",
       "6M Grocery      | 78652    | 01/17/2014      | 90    | 2803436\n",
       "6M Grocery      | 78652    | 04/27/2015      | 93    | 2803436\n",
       "6M Grocery      | 78652    | 05/02/2016      | 88    | 2803436\n",
       "6M Grocery      | 78652    | 07/25/2014      | 100   | 2803436\n",
       "6M Grocery      | 78652    | 10/21/2015      | 87    | 2803436\n",
       "6M Grocery      | 78652    | 12/15/2014      | 93    | 2803436\n",
       "7 Eleven #36575 | 78660    | 01/25/2016      | 92    | 10874330\n",
       "7 Eleven #36575 | 78660    | 03/05/2015      | 86    | 10874330\n",
       "7 Eleven #36575 | 78660    | 03/14/2014      | 93    | 10874330\n",
       "7 Eleven #36575 | 78660    | 07/27/2015      | 97    | 10874330\n",
       "... (24357 rows omitted)"
      ]
     },
     "execution_count": 34,
     "metadata": {},
     "output_type": "execute_result"
    }
   ],
   "source": [
    "pop_restaurants=Table.read_table('E:\\\\5502\\\\restaurant_inspection_scores.csv').drop('Address','Process Description')\n",
    "pop_restaurants"
   ]
  },
  {
   "cell_type": "code",
   "execution_count": 35,
   "metadata": {},
   "outputs": [],
   "source": [
    "pop_restaurants.hist('Score')"
   ]
  },
  {
   "cell_type": "code",
   "execution_count": 36,
   "metadata": {},
   "outputs": [
    {
     "data": {
      "text/plain": [
       "91.40706693478886"
      ]
     },
     "execution_count": 36,
     "metadata": {},
     "output_type": "execute_result"
    }
   ],
   "source": [
    "pop_mean=np.mean(pop_restaurants.column('Score'))\n",
    "pop_mean"
   ]
  },
  {
   "cell_type": "code",
   "execution_count": 37,
   "metadata": {},
   "outputs": [
    {
     "data": {
      "text/html": [
       "<table border=\"1\" class=\"dataframe\">\n",
       "    <thead>\n",
       "        <tr>\n",
       "            <th>Restaurant Name</th> <th>Zip Code</th> <th>Inspection Date</th> <th>Score</th> <th>Facility ID</th>\n",
       "        </tr>\n",
       "    </thead>\n",
       "    <tbody>\n",
       "        <tr>\n",
       "            <td>Jersey Mike's Subs        </td> <td>78704   </td> <td>05/19/2016     </td> <td>97   </td> <td>11414602   </td>\n",
       "        </tr>\n",
       "        <tr>\n",
       "            <td>Iron Bear, The            </td> <td>78701   </td> <td>10/22/2014     </td> <td>94   </td> <td>10518840   </td>\n",
       "        </tr>\n",
       "        <tr>\n",
       "            <td>Grand Billiards, The      </td> <td>78751   </td> <td>07/02/2015     </td> <td>96   </td> <td>10099732   </td>\n",
       "        </tr>\n",
       "        <tr>\n",
       "            <td>Mets Mart                 </td> <td>78745   </td> <td>07/17/2015     </td> <td>93   </td> <td>2803666    </td>\n",
       "        </tr>\n",
       "        <tr>\n",
       "            <td>Austin Vegetarian         </td> <td>78751   </td> <td>07/16/2015     </td> <td>100  </td> <td>10678584   </td>\n",
       "        </tr>\n",
       "        <tr>\n",
       "            <td>Domino's Pizza-Store #6404</td> <td>78741   </td> <td>06/26/2014     </td> <td>88   </td> <td>10996583   </td>\n",
       "        </tr>\n",
       "        <tr>\n",
       "            <td>Elroy & Ross Market       </td> <td>78617   </td> <td>08/07/2015     </td> <td>96   </td> <td>10969915   </td>\n",
       "        </tr>\n",
       "        <tr>\n",
       "            <td>Dolce Vita                </td> <td>78751   </td> <td>07/30/2014     </td> <td>85   </td> <td>2803266    </td>\n",
       "        </tr>\n",
       "        <tr>\n",
       "            <td>Pok-E-Jo's                </td> <td>78758   </td> <td>06/29/2015     </td> <td>89   </td> <td>2801171    </td>\n",
       "        </tr>\n",
       "        <tr>\n",
       "            <td>Short Stop                </td> <td>78745   </td> <td>05/19/2014     </td> <td>82   </td> <td>2801588    </td>\n",
       "        </tr>\n",
       "    </tbody>\n",
       "</table>\n",
       "<p>... (90 rows omitted)</p>"
      ],
      "text/plain": [
       "Restaurant Name            | Zip Code | Inspection Date | Score | Facility ID\n",
       "Jersey Mike's Subs         | 78704    | 05/19/2016      | 97    | 11414602\n",
       "Iron Bear, The             | 78701    | 10/22/2014      | 94    | 10518840\n",
       "Grand Billiards, The       | 78751    | 07/02/2015      | 96    | 10099732\n",
       "Mets Mart                  | 78745    | 07/17/2015      | 93    | 2803666\n",
       "Austin Vegetarian          | 78751    | 07/16/2015      | 100   | 10678584\n",
       "Domino's Pizza-Store #6404 | 78741    | 06/26/2014      | 88    | 10996583\n",
       "Elroy & Ross Market        | 78617    | 08/07/2015      | 96    | 10969915\n",
       "Dolce Vita                 | 78751    | 07/30/2014      | 85    | 2803266\n",
       "Pok-E-Jo's                 | 78758    | 06/29/2015      | 89    | 2801171\n",
       "Short Stop                 | 78745    | 05/19/2014      | 82    | 2801588\n",
       "... (90 rows omitted)"
      ]
     },
     "execution_count": 37,
     "metadata": {},
     "output_type": "execute_result"
    }
   ],
   "source": [
    "restaurant_sample=pop_restaurants.sample(100, with_replacement=False)\n",
    "restaurant_sample"
   ]
  },
  {
   "cell_type": "code",
   "execution_count": 38,
   "metadata": {},
   "outputs": [],
   "source": [
    "restaurant_sample.hist('Score')"
   ]
  },
  {
   "cell_type": "code",
   "execution_count": 39,
   "metadata": {},
   "outputs": [
    {
     "data": {
      "text/plain": [
       "90.74"
      ]
     },
     "execution_count": 39,
     "metadata": {},
     "output_type": "execute_result"
    }
   ],
   "source": [
    "sample_mean=np.mean(restaurant_sample.column('Score'))\n",
    "sample_mean"
   ]
  },
  {
   "cell_type": "code",
   "execution_count": 41,
   "metadata": {},
   "outputs": [
    {
     "data": {
      "text/plain": [
       "92.57"
      ]
     },
     "execution_count": 41,
     "metadata": {},
     "output_type": "execute_result"
    }
   ],
   "source": [
    "#1.1 Question 1\n",
    "\n",
    "import datascience as ds\n",
    "from datascience import Table\n",
    "import numpy as np\n",
    "rests=Table.read_table('E:\\\\5502\\\\restaurant_inspection_scores.csv').drop('Address','Facility ID')\n",
    "restaurant_sample=rests.sample(100, with_replacement=False)\n",
    "def one_resampled_mean(data): \n",
    "    resampled_data=data.select('Score').sample().column(0)\n",
    "    return np.mean(resampled_data) \n",
    "this_mean=one_resampled_mean(restaurant_sample)\n",
    "this_mean"
   ]
  },
  {
   "cell_type": "code",
   "execution_count": 42,
   "metadata": {},
   "outputs": [
    {
     "data": {
      "text/plain": [
       "array([91.86, 91.76, 90.49, ..., 91.74, 90.49, 91.74])"
      ]
     },
     "execution_count": 42,
     "metadata": {},
     "output_type": "execute_result"
    }
   ],
   "source": [
    "#1.2 Question 2\n",
    "\n",
    "rests=Table.read_table('E:\\\\5502\\\\restaurant_inspection_scores.csv').drop('Address','Facility ID')\n",
    "restaurant_sample=rests.sample(100, with_replacement=False)\n",
    "def bootstrap_scores(): \n",
    "    resampled_means = ds.util.make_array()\n",
    "    for i in range(5000):\n",
    "        resampled_mean = one_resampled_mean(restaurant_sample)\n",
    "        resampled_means = np.append(resampled_means, resampled_mean)\n",
    "    return resampled_means\n",
    "resampled_means = bootstrap_scores() \n",
    "resampled_means"
   ]
  },
  {
   "cell_type": "code",
   "execution_count": 49,
   "metadata": {},
   "outputs": [
    {
     "name": "stdout",
     "output_type": "stream",
     "text": [
      "95% confidence interval for the average restaurant score, computed by bootstrapping:\n",
      "( 90.61 , 93.44 )\n"
     ]
    }
   ],
   "source": [
    "#1.3 Question 3\n",
    "\n",
    "rests=Table.read_table('E:\\\\5502\\\\restaurant_inspection_scores.csv').drop('Address','Facility ID')\n",
    "restaurant_sample=rests.sample(100, with_replacement=False)\n",
    "def bootstrap_scores():\n",
    "    resampled_means = ds.util.make_array()\n",
    "    for i in range(5000):\n",
    "        resampled_mean = one_resampled_mean(restaurant_sample)\n",
    "        resampled_means = np.append(resampled_means, resampled_mean)\n",
    "    return resampled_means\n",
    "resampled_means = bootstrap_scores()\n",
    "resampled_means\n",
    "lower_bound = np.percentile(resampled_means,2.5)#Take 2.5 percentile of normal Distribution\n",
    "upper_bound = np.percentile(resampled_means,97.5)#Take 97.5 percentile of normal Distribution\n",
    "print(\"95% confidence interval for the average restaurant score, computed by bootstrapping:\\n(\",lower_bound,',',upper_bound,\")\")\n",
    "\n"
   ]
  },
  {
   "cell_type": "code",
   "execution_count": 50,
   "metadata": {},
   "outputs": [
    {
     "data": {
      "image/png": "[encoded data removed]",
      "text/plain": [
       "<Figure size 432x288 with 1 Axes>"
      ]
     },
     "metadata": {
      "needs_background": "light"
     },
     "output_type": "display_data"
    }
   ],
   "source": [
    "#1.4 Question 4\n",
    "\n",
    "get_ipython().run_line_magic('matplotlib', 'inline')\n",
    "Table().with_column('Resampled Means', resampled_means).hist()"
   ]
  },
  {
   "cell_type": "code",
   "execution_count": 51,
   "metadata": {},
   "outputs": [
    {
     "name": "stdout",
     "output_type": "stream",
     "text": [
      "95% confidence interval for the average restaurant score is \n",
      "(90.66775208727987,93.57224791272014)\n"
     ]
    }
   ],
   "source": [
    "#1.6 Question 6\n",
    "\n",
    "sample_mean = np.mean(restaurant_sample.column(3))\n",
    "Standard_deviation_sample = np.std(restaurant_sample.column(3))\n",
    "sample_row_size = restaurant_sample.num_rows\n",
    "means_standard_deviation = Standard_deviation_sample/np.sqrt(sample_row_size)\n",
    "lower_bound_distribution = sample_mean-(2*means_standard_deviation)\n",
    "upper_bound_distribution = sample_mean+(2*means_standard_deviation)\n",
    "print(f\"95% confidence interval for the average restaurant score is \\n({lower_bound_distribution},{upper_bound_distribution})\")\n"
   ]
  },
  {
   "cell_type": "code",
   "execution_count": 52,
   "metadata": {},
   "outputs": [],
   "source": [
    "# 2.Testing the Central Limit Theorem"
   ]
  },
  {
   "cell_type": "code",
   "execution_count": 54,
   "metadata": {},
   "outputs": [
    {
     "data": {
      "text/plain": [
       "0.5"
      ]
     },
     "execution_count": 54,
     "metadata": {},
     "output_type": "execute_result"
    }
   ],
   "source": [
    "#2.1 Question 1\n",
    "\n",
    "coin_proportions = ds.util.make_array(.5, .5) \n",
    "def one_statistic_prop_heads(n):\n",
    "    simulated_proportions = ds.util.sample_proportions(n, coin_proportions)\n",
    "    prop_heads = simulated_proportions.item(0)\n",
    "    return prop_heads\n",
    "one_statistic_prop_heads(10)\n"
   ]
  },
  {
   "cell_type": "code",
   "execution_count": 55,
   "metadata": {},
   "outputs": [
    {
     "data": {
      "text/plain": [
       "array([0.5, 0.8, 0.4, ..., 0.2, 0.4, 0.5])"
      ]
     },
     "execution_count": 55,
     "metadata": {},
     "output_type": "execute_result"
    }
   ],
   "source": [
    "#2.2 Question 2\n",
    "\n",
    "def sample_size_n(n):\n",
    "    coin_proportions = ds.util.make_array(.5, .5)\n",
    "    heads_proportions = ds.util.make_array()\n",
    "    for i in np.arange(5000):\n",
    "        prop_heads = one_statistic_prop_heads(n)\n",
    "        heads_proportions = np.append(heads_proportions, prop_heads)\n",
    "    return heads_proportions\n",
    "sample_size_n(10)\n"
   ]
  },
  {
   "cell_type": "code",
   "execution_count": 56,
   "metadata": {},
   "outputs": [
    {
     "data": {
      "text/plain": [
       "12.458899238696812"
      ]
     },
     "execution_count": 56,
     "metadata": {},
     "output_type": "execute_result"
    }
   ],
   "source": [
    "#2.3 Question 3\n",
    "\n",
    "flight_delay=Table.read_table(\"E:\\\\5502\\\\united_summer2015.csv\")\n",
    "def emperical_sample_mean_sd(n):\n",
    "    sample_means=ds.util.make_array()\n",
    "    for i in np.arange(500):\n",
    "        sample=flight_delay.sample(10, with_replacement=True)\n",
    "        sample_mean=np.mean(sample.column('Delay'))\n",
    "        sample_means=np.append(sample_means,sample_mean)\n",
    "    return np.std(sample_means) \n",
    "emperical_sample_mean_sd(10)"
   ]
  },
  {
   "cell_type": "code",
   "execution_count": 57,
   "metadata": {},
   "outputs": [
    {
     "data": {
      "text/html": [
       "<table border=\"1\" class=\"dataframe\">\n",
       "    <thead>\n",
       "        <tr>\n",
       "            <th>Date</th> <th>Flight Number</th> <th>Destination</th> <th>Delay</th>\n",
       "        </tr>\n",
       "    </thead>\n",
       "    <tbody>\n",
       "        <tr>\n",
       "            <td>6/1/15</td> <td>73           </td> <td>HNL        </td> <td>257  </td>\n",
       "        </tr>\n",
       "        <tr>\n",
       "            <td>6/1/15</td> <td>217          </td> <td>EWR        </td> <td>28   </td>\n",
       "        </tr>\n",
       "        <tr>\n",
       "            <td>6/1/15</td> <td>237          </td> <td>STL        </td> <td>-3   </td>\n",
       "        </tr>\n",
       "        <tr>\n",
       "            <td>6/1/15</td> <td>250          </td> <td>SAN        </td> <td>0    </td>\n",
       "        </tr>\n",
       "        <tr>\n",
       "            <td>6/1/15</td> <td>267          </td> <td>PHL        </td> <td>64   </td>\n",
       "        </tr>\n",
       "        <tr>\n",
       "            <td>6/1/15</td> <td>273          </td> <td>SEA        </td> <td>-6   </td>\n",
       "        </tr>\n",
       "        <tr>\n",
       "            <td>6/1/15</td> <td>278          </td> <td>SEA        </td> <td>-8   </td>\n",
       "        </tr>\n",
       "        <tr>\n",
       "            <td>6/1/15</td> <td>292          </td> <td>EWR        </td> <td>12   </td>\n",
       "        </tr>\n",
       "        <tr>\n",
       "            <td>6/1/15</td> <td>300          </td> <td>HNL        </td> <td>20   </td>\n",
       "        </tr>\n",
       "        <tr>\n",
       "            <td>6/1/15</td> <td>317          </td> <td>IND        </td> <td>-10  </td>\n",
       "        </tr>\n",
       "    </tbody>\n",
       "</table>\n",
       "<p>... (13815 rows omitted)</p>"
      ],
      "text/plain": [
       "Date   | Flight Number | Destination | Delay\n",
       "6/1/15 | 73            | HNL         | 257\n",
       "6/1/15 | 217           | EWR         | 28\n",
       "6/1/15 | 237           | STL         | -3\n",
       "6/1/15 | 250           | SAN         | 0\n",
       "6/1/15 | 267           | PHL         | 64\n",
       "6/1/15 | 273           | SEA         | -6\n",
       "6/1/15 | 278           | SEA         | -8\n",
       "6/1/15 | 292           | EWR         | 12\n",
       "6/1/15 | 300           | HNL         | 20\n",
       "6/1/15 | 317           | IND         | -10\n",
       "... (13815 rows omitted)"
      ]
     },
     "execution_count": 57,
     "metadata": {},
     "output_type": "execute_result"
    }
   ],
   "source": [
    "flight_delay"
   ]
  },
  {
   "cell_type": "code",
   "execution_count": 58,
   "metadata": {},
   "outputs": [
    {
     "data": {
      "text/plain": [
       "12.484735400972708"
      ]
     },
     "execution_count": 58,
     "metadata": {},
     "output_type": "execute_result"
    }
   ],
   "source": [
    "#2.4 Question 4\n",
    "\n",
    "def predict_sample_mean_sd(n):\n",
    "    return np.std(flight_delay.column('Delay'))/n**0.5 \n",
    "predict_sample_mean_sd(10)\n"
   ]
  },
  {
   "cell_type": "code",
   "execution_count": null,
   "metadata": {},
   "outputs": [],
   "source": []
  }
 ],
 "metadata": {
  "kernelspec": {
   "display_name": "Python 3",
   "language": "python",
   "name": "python3"
  },
  "language_info": {
   "codemirror_mode": {
    "name": "ipython",
    "version": 3
   },
   "file_extension": ".py",
   "mimetype": "text/x-python",
   "name": "python",
   "nbconvert_exporter": "python",
   "pygments_lexer": "ipython3",
   "version": "3.7.6"
  }
 },
 "nbformat": 4,
 "nbformat_minor": 4
}
